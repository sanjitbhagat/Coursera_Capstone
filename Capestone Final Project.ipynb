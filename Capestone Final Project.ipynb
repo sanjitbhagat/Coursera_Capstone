{
    "cells": [
        {
            "cell_type": "markdown",
            "metadata": {
                "collapsed": true
            },
            "source": "# Final Project Capestone Part-I #\n"
        },
        {
            "cell_type": "markdown",
            "metadata": {},
            "source": "#### \"for the *IBM Data Science (Professional) Certification* /  COURSERA\" ####"
        },
        {
            "cell_type": "markdown",
            "metadata": {},
            "source": "## Table of contents\n* [Business Problem](#introduction)\n* [Data](#data)"
        },
        {
            "cell_type": "markdown",
            "metadata": {},
            "source": "### Business Problem <a name='Business Problem'></a>"
        },
        {
            "cell_type": "markdown",
            "metadata": {},
            "source": "This project is focusing on , finding the places where a **restaurant/ coffee shop/ cafe** can be opened.The project will lead to the destinations where there are **few or no restaurants** having the **optimal distance** from the **city center**.This report will be targeted to stakeholders interested in opening an restaurant/ coffee shop/ cafe  in **Jaipur,India**."
        },
        {
            "cell_type": "markdown",
            "metadata": {},
            "source": "### Data <a name='Data'></a>"
        },
        {
            "cell_type": "markdown",
            "metadata": {},
            "source": "We will require the following data\n* Get all the **picodes** of Jaiupr city**\n* Clean the data and will aquire almost **70 picodes near the location**\n* Get the **coordinates of pincodes using geopy**\n* Use **Foursquare to explore** the needed venues with repect to all the locations we have\n* Apply **k-means to get the clusters** having less venues\n* Use **Folium to plot the map** wherever required"
        },
        {
            "cell_type": "code",
            "execution_count": null,
            "metadata": {},
            "outputs": [],
            "source": ""
        }
    ],
    "metadata": {
        "kernelspec": {
            "display_name": "Python 3.6",
            "language": "python",
            "name": "python3"
        },
        "language_info": {
            "codemirror_mode": {
                "name": "ipython",
                "version": 3
            },
            "file_extension": ".py",
            "mimetype": "text/x-python",
            "name": "python",
            "nbconvert_exporter": "python",
            "pygments_lexer": "ipython3",
            "version": "3.6.9"
        }
    },
    "nbformat": 4,
    "nbformat_minor": 1
}