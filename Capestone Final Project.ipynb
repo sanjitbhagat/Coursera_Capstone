{
    "cells": [
        {
            "cell_type": "markdown",
            "metadata": {
                "collapsed": true
            },
            "source": "# Final Project Capestone Part-I #\n"
        },
        {
            "cell_type": "markdown",
            "metadata": {},
            "source": "#### \"for the *IBM Data Science (Professional) Certification* /  COURSERA\" ####"
        },
        {
            "cell_type": "markdown",
            "metadata": {},
            "source": "## Table of contents\n* [Business Problem](#Problem)\n* [Data](#Data)"
        },
        {
            "cell_type": "markdown",
            "metadata": {},
            "source": "### Background ###"
        },
        {
            "cell_type": "markdown",
            "metadata": {},
            "source": "Jaipur is the capital of India\u2019s Rajasthan state. At the center of its stately street grid (notable in India) stands the opulent, colonnaded City Palace complex. With gardens, courtyards and museums, part of it is still a royal residence.As a capital city it has a good opportunity for an individual/business to open the restaurant/ coffee shop/ cafe near the city center."
        },
        {
            "cell_type": "markdown",
            "metadata": {},
            "source": "### Business Problem <a name='Problem'></a>"
        },
        {
            "cell_type": "markdown",
            "metadata": {},
            "source": "This project is focusing on , finding the places where a **restaurant/ coffee shop/ cafe** can be opened.The project will lead to the destinations where there are **few or no restaurants** having the **optimal distance** from the **city center**.This report will be targeted to stakeholders interested in opening an restaurant/ coffee shop/ cafe  in **Jaipur,India**. AS it is a good opportunity to establish a food chain in the capital city.The optimal location will give public advantage as there are few or no restaurants nearby.The city center is seleted because is has a good amount of tourist places,shopping centers,colleges that will help to gather the audience."
        },
        {
            "cell_type": "markdown",
            "metadata": {},
            "source": "### Data <a name='Data'></a>"
        },
        {
            "cell_type": "markdown",
            "metadata": {},
            "source": "Gathering the data is the most important factor of data science. More the data more the consistancy in prediction.We will aquire the pincodes of jaipur city from the following https://finkode.com/rj/jaipur.html url.This contans the postal addresses of all the locations in jaipur almost 600 postal locations.We will need only locations that are near to the city center as the outside the city its still a rural area. So we will filter locations according to our need with specific tools.The foursquare will help to find the public places regarding to the all coordinates we have gathered.The following methodology will be used "
        },
        {
            "cell_type": "markdown",
            "metadata": {},
            "source": "We will require the process\n* Get all the **picodes** of Jaiupr city**\n* Clean the data and will aquire almost **70 picodes near the location**\n* Get the **coordinates of pincodes using geopy**\n* Use **Foursquare to explore** the needed venues with repect to all the locations we have\n* Apply **k-means to get the clusters** having less venues\n* Use **Folium to plot the map** wherever required"
        },
        {
            "cell_type": "code",
            "execution_count": null,
            "metadata": {},
            "outputs": [],
            "source": ""
        }
    ],
    "metadata": {
        "kernelspec": {
            "display_name": "Python 3.6",
            "language": "python",
            "name": "python3"
        },
        "language_info": {
            "codemirror_mode": {
                "name": "ipython",
                "version": 3
            },
            "file_extension": ".py",
            "mimetype": "text/x-python",
            "name": "python",
            "nbconvert_exporter": "python",
            "pygments_lexer": "ipython3",
            "version": "3.6.9"
        }
    },
    "nbformat": 4,
    "nbformat_minor": 1
}